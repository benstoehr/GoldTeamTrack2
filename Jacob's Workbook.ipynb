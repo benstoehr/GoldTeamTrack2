{
 "cells": [
  {
   "cell_type": "code",
   "execution_count": 1,
   "metadata": {},
   "outputs": [
    {
     "data": {
      "text/html": [
       "<style>.container { width:100% !important; }</style>"
      ],
      "text/plain": [
       "<IPython.core.display.HTML object>"
      ]
     },
     "metadata": {},
     "output_type": "display_data"
    }
   ],
   "source": [
    "from IPython.core.display import display, HTML\n",
    "display(HTML(\"<style>.container { width:100% !important; }</style>\"))\n"
   ]
  },
  {
   "cell_type": "code",
   "execution_count": 8,
   "metadata": {
    "collapsed": true
   },
   "outputs": [],
   "source": [
    "# Stolen from StackOverflow\n",
    "# https://stackoverflow.com/questions/14996453/python-libraries-to-calculate-human-readable-filesize-from-bytes\n",
    "suffixes = ['B', 'KB', 'MB', 'GB', 'TB', 'PB']\n",
    "def humansize(nbytes):\n",
    "    i = 0\n",
    "    while nbytes >= 1024 and i < len(suffixes)-1:\n",
    "        nbytes /= 1024.\n",
    "        i += 1\n",
    "    f = ('%.2f' % nbytes).rstrip('0').rstrip('.')\n",
    "    return '%s %s' % (f, suffixes[i])\n"
   ]
  },
  {
   "cell_type": "markdown",
   "metadata": {},
   "source": [
    "## CSV Generation\n",
    "`generate(rows, generators)` generates a csv with `1000*rows` rows to `./data/out.csv` creating the directory and file if necessary and overwriting the file if it exists\n",
    "\n",
    "Across 8 processes, workers generate 1000 lines from the generators, joining the result of each generator for each column to create a line. A listener accepts output from the workers and writes it to a file.\n",
    "\n",
    "All columns are random integers from 1 to 999"
   ]
  },
  {
   "cell_type": "code",
   "execution_count": 16,
   "metadata": {
    "collapsed": true,
    "scrolled": true
   },
   "outputs": [],
   "source": [
    "from server.Generator import Generator\n"
   ]
  },
  {
   "cell_type": "code",
   "execution_count": 17,
   "metadata": {
    "collapsed": true
   },
   "outputs": [],
   "source": [
    "# Generate './data/out.csv' with 1000*1000 lines\n",
    "Generator.generate(1000, Generator.generate_random_int_cols())\n"
   ]
  },
  {
   "cell_type": "markdown",
   "metadata": {},
   "source": [
    "# FixedWidth CSV files\n",
    "FixedWidth is a class that normalizes a csv to have columns of fixed width. It performs column operations by seeking through the fixed-width csv file.\n",
    "\n",
    "It can compute the maximum width for each column if `tmp_dir+'widths.pickle'` does not exist, otherwise it will just load the widths using pickle.\n",
    "\n",
    "Writing a new fixed width CSV requires a call to `write(output_csv)`, where `output_csv` is the filename of the output.\n",
    "\n",
    "A column comparison is performed using `column_operation(self, csv, first_column, second_column, operation)`. Currently, `csv` is required because we don't keep a standard location for the normalized csv location (we could). Also, we are ignoring `operation` and just performing `==` at the moment\n",
    "\n"
   ]
  },
  {
   "cell_type": "code",
   "execution_count": 1,
   "metadata": {
    "collapsed": true
   },
   "outputs": [],
   "source": [
    "from server.FixedTable import FixedTable\n",
    "import os"
   ]
  },
  {
   "cell_type": "code",
   "execution_count": 27,
   "metadata": {},
   "outputs": [
    {
     "name": "stdout",
     "output_type": "stream",
     "text": [
      "Splitting 1124751382 bytes between 8 processes in chunks of 70296961\n",
      "Got widths in 7.65 seconds\n"
     ]
    }
   ],
   "source": [
    "# Read the widths from scratch\n",
    "if os.path.exists('./data/tmp/widths.pickle'):\n",
    "    os.remove('./data/tmp/widths.pickle')\n",
    "csv = FixedTable('./data/out.csv', './data/tmp/')"
   ]
  },
  {
   "cell_type": "code",
   "execution_count": 5,
   "metadata": {
    "scrolled": true
   },
   "outputs": [
    {
     "name": "stdout",
     "output_type": "stream",
     "text": [
      "Splitting 1124751382 bytes between 8 processes in chunks of 70296961\n",
      "Got widths in 7.06 seconds\n",
      "Wrote fixed width csv in 74.23 seconds\n"
     ]
    }
   ],
   "source": [
    "# Write a normalized csv file\n",
    "if os.path.exists('./data/fixed_out.csv'):\n",
    "    os.remove('./data/fixed_out.csv')\n",
    "csv = FixedTable('./data/out.csv', './data/tmp/')\n",
    "csv.write('./data/fixed_out.csv')"
   ]
  },
  {
   "cell_type": "code",
   "execution_count": 3,
   "metadata": {
    "scrolled": true
   },
   "outputs": [
    {
     "name": "stdout",
     "output_type": "stream",
     "text": [
      "Got widths in 0.00 seconds\n",
      "Performed operation in 9.709 seconds\n"
     ]
    }
   ],
   "source": [
    "# Perform a column operation on fixed_out.csv\n",
    "csv = FixedTable('./data/out.csv', './data/tmp/')\n",
    "results = csv.column_operation('./data/fixed_out.csv', 'aa', 'ab', '=')"
   ]
  },
  {
   "cell_type": "markdown",
   "metadata": {},
   "source": [
    "# Scratch\n",
    "Cells for reading csv line by line"
   ]
  },
  {
   "cell_type": "code",
   "execution_count": 21,
   "metadata": {
    "collapsed": true
   },
   "outputs": [],
   "source": [
    "f = open('./data/out.csv', 'rb')"
   ]
  },
  {
   "cell_type": "code",
   "execution_count": 22,
   "metadata": {},
   "outputs": [
    {
     "data": {
      "text/plain": [
       "b'aa,ab,ac,ad,ae,af,ah,ai,aj,ak,al,am,an,ao,ap,aq,ar,ba,bb,bc,bd,be,bf,bh,bi,bj,bk,bl,bm,bn,bo,bp,bq,br,ca,cb,cc,cd,ce,cf,ch,ci,cj,ck,cl,cm,cn,co,cp,cq,cr,da,db,dc,dd,de,df,dh,di,dj,dk,dl,dm,dn,do,dp,dq,dr,ea,eb,ec,ed,ee,ef,eh,ei,ej,ek,el,em,en,eo,ep,eq,er,fa,fb,fc,fd,fe,ff,fh,fi,fj,fk,fl,fm,fn,fo,fp,fq,fr,ha,hb,hc,hd,he,hf,hh,hi,hj,hk,hl,hm,hn,ho,hp,hq,hr,ia,ib,ic,id,ie,if,ih,ii,ij,ik,il,im,in,io,ip,iq,ir,ja,jb,jc,jd,je,jf,jh,ji,jj,jk,jl,jm,jn,jo,jp,jq,jr,ka,kb,kc,kd,ke,kf,kh,ki,kj,kk,kl,km,kn,ko,kp,kq,kr,la,lb,lc,ld,le,lf,lh,li,lj,lk,ll,lm,ln,lo,lp,lq,lr,ma,mb,mc,md,me,mf,mh,mi,mj,mk,ml,mm,mn,mo,mp,mq,mr,na,nb,nc,nd,ne,nf,nh,ni,nj,nk,nl,nm,nn,no,np,nq,nr,oa,ob,oc,od,oe,of,oh,oi,oj,ok,ol,om,on,oo,op,oq,or,pa,pb,pc,pd,pe,pf,ph,pi,pj,pk,pl,pm,pn,po,pp,pq,pr,qa,qb,qc,qd,qe,qf,qh,qi,qj,qk,ql,qm,qn,qo,qp,qq,qr,ra,rb,rc,rd,re,rf,rh,ri,rj,rk,rl,rm,rn,ro,rp,rq,rr\\n'"
      ]
     },
     "execution_count": 22,
     "metadata": {},
     "output_type": "execute_result"
    }
   ],
   "source": [
    "f.readline()"
   ]
  },
  {
   "cell_type": "code",
   "execution_count": 23,
   "metadata": {},
   "outputs": [
    {
     "data": {
      "text/plain": [
       "867"
      ]
     },
     "execution_count": 23,
     "metadata": {},
     "output_type": "execute_result"
    }
   ],
   "source": [
    "f.tell()"
   ]
  },
  {
   "cell_type": "code",
   "execution_count": 25,
   "metadata": {
    "collapsed": true
   },
   "outputs": [],
   "source": [
    "f.close()\n"
   ]
  },
  {
   "cell_type": "code",
   "execution_count": 14,
   "metadata": {},
   "outputs": [
    {
     "ename": "ValueError",
     "evalue": "seek of closed file",
     "output_type": "error",
     "traceback": [
      "\u001b[1;31m---------------------------------------------------------------------------\u001b[0m",
      "\u001b[1;31mValueError\u001b[0m                                Traceback (most recent call last)",
      "\u001b[1;32m<ipython-input-14-f8c0112fd57f>\u001b[0m in \u001b[0;36m<module>\u001b[1;34m()\u001b[0m\n\u001b[1;32m----> 1\u001b[1;33m \u001b[0mf\u001b[0m\u001b[1;33m.\u001b[0m\u001b[0mseek\u001b[0m\u001b[1;33m(\u001b[0m\u001b[1;36m0\u001b[0m\u001b[1;33m)\u001b[0m\u001b[1;33m\u001b[0m\u001b[0m\n\u001b[0m\u001b[0;32m      2\u001b[0m \u001b[0ml\u001b[0m \u001b[1;33m=\u001b[0m \u001b[0mlen\u001b[0m\u001b[1;33m(\u001b[0m\u001b[0mf\u001b[0m\u001b[1;33m.\u001b[0m\u001b[0mreadline\u001b[0m\u001b[1;33m(\u001b[0m\u001b[1;33m)\u001b[0m\u001b[1;33m)\u001b[0m\u001b[1;33m\u001b[0m\u001b[0m\n\u001b[0;32m      3\u001b[0m \u001b[0ml1\u001b[0m \u001b[1;33m=\u001b[0m \u001b[0mlen\u001b[0m\u001b[1;33m(\u001b[0m\u001b[0mf\u001b[0m\u001b[1;33m.\u001b[0m\u001b[0mreadline\u001b[0m\u001b[1;33m(\u001b[0m\u001b[1;33m)\u001b[0m\u001b[1;33m)\u001b[0m\u001b[1;33m\u001b[0m\u001b[0m\n\u001b[0;32m      4\u001b[0m \u001b[0msize\u001b[0m \u001b[1;33m=\u001b[0m \u001b[0mos\u001b[0m\u001b[1;33m.\u001b[0m\u001b[0mpath\u001b[0m\u001b[1;33m.\u001b[0m\u001b[0mgetsize\u001b[0m\u001b[1;33m(\u001b[0m\u001b[1;34m'./data/fixed_out.csv'\u001b[0m\u001b[1;33m)\u001b[0m \u001b[1;33m-\u001b[0m \u001b[0ml\u001b[0m\u001b[1;33m\u001b[0m\u001b[0m\n\u001b[0;32m      5\u001b[0m \u001b[0mrows\u001b[0m \u001b[1;33m=\u001b[0m \u001b[0msize\u001b[0m \u001b[1;33m/\u001b[0m \u001b[0ml1\u001b[0m\u001b[1;33m\u001b[0m\u001b[0m\n",
      "\u001b[1;31mValueError\u001b[0m: seek of closed file"
     ]
    }
   ],
   "source": [
    "f.seek(0)\n",
    "l = len(f.readline())\n",
    "l1 = len(f.readline())\n",
    "size = os.path.getsize('./data/fixed_out.csv') - l\n",
    "rows = size / l1\n",
    "print(size, l1, size / l1, rows / 16, rows / 16 * l1)"
   ]
  },
  {
   "cell_type": "code",
   "execution_count": 11,
   "metadata": {
    "collapsed": true
   },
   "outputs": [],
   "source": [
    "f = open('./data/fixed_out.csv', 'rb')"
   ]
  },
  {
   "cell_type": "code",
   "execution_count": 12,
   "metadata": {},
   "outputs": [
    {
     "data": {
      "text/plain": [
       "b'aa,ab,ac,ad,ae,af,ah,ai,aj,ak,al,am,an,ao,ap,aq,ar,ba,bb,bc,bd,be,bf,bh,bi,bj,bk,bl,bm,bn,bo,bp,bq,br,ca,cb,cc,cd,ce,cf,ch,ci,cj,ck,cl,cm,cn,co,cp,cq,cr,da,db,dc,dd,de,df,dh,di,dj,dk,dl,dm,dn,do,dp,dq,dr,ea,eb,ec,ed,ee,ef,eh,ei,ej,ek,el,em,en,eo,ep,eq,er,fa,fb,fc,fd,fe,ff,fh,fi,fj,fk,fl,fm,fn,fo,fp,fq,fr,ha,hb,hc,hd,he,hf,hh,hi,hj,hk,hl,hm,hn,ho,hp,hq,hr,ia,ib,ic,id,ie,if,ih,ii,ij,ik,il,im,in,io,ip,iq,ir,ja,jb,jc,jd,je,jf,jh,ji,jj,jk,jl,jm,jn,jo,jp,jq,jr,ka,kb,kc,kd,ke,kf,kh,ki,kj,kk,kl,km,kn,ko,kp,kq,kr,la,lb,lc,ld,le,lf,lh,li,lj,lk,ll,lm,ln,lo,lp,lq,lr,ma,mb,mc,md,me,mf,mh,mi,mj,mk,ml,mm,mn,mo,mp,mq,mr,na,nb,nc,nd,ne,nf,nh,ni,nj,nk,nl,nm,nn,no,np,nq,nr,oa,ob,oc,od,oe,of,oh,oi,oj,ok,ol,om,on,oo,op,oq,or,pa,pb,pc,pd,pe,pf,ph,pi,pj,pk,pl,pm,pn,po,pp,pq,pr,qa,qb,qc,qd,qe,qf,qh,qi,qj,qk,ql,qm,qn,qo,qp,qq,qr,ra,rb,rc,rd,re,rf,rh,ri,rj,rk,rl,rm,rn,ro,rp,rq,rr\\r\\n'"
      ]
     },
     "execution_count": 12,
     "metadata": {},
     "output_type": "execute_result"
    }
   ],
   "source": [
    "f.readline()"
   ]
  },
  {
   "cell_type": "code",
   "execution_count": 6,
   "metadata": {},
   "outputs": [
    {
     "data": {
      "text/plain": [
       "868"
      ]
     },
     "execution_count": 6,
     "metadata": {},
     "output_type": "execute_result"
    }
   ],
   "source": [
    "f.tell()"
   ]
  },
  {
   "cell_type": "code",
   "execution_count": 7,
   "metadata": {
    "scrolled": true
   },
   "outputs": [
    {
     "name": "stdout",
     "output_type": "stream",
     "text": [
      "2025 2025\n"
     ]
    },
    {
     "data": {
      "text/plain": [
       "(867, 1156, 1156)"
      ]
     },
     "execution_count": 7,
     "metadata": {},
     "output_type": "execute_result"
    }
   ],
   "source": [
    "f.seek(0)\n",
    "headers = len(f.readline())\n",
    "row = len(f.readline())\n",
    "print(headers + row + 2, f.tell())\n",
    "row1 = len(f.readline())\n",
    "headers, row, row1"
   ]
  },
  {
   "cell_type": "code",
   "execution_count": 9,
   "metadata": {},
   "outputs": [
    {
     "data": {
      "text/plain": [
       "1126729410"
      ]
     },
     "execution_count": 9,
     "metadata": {},
     "output_type": "execute_result"
    }
   ],
   "source": [
    "import os\n",
    "datasize = os.path.getsize('./data/fixed_out.csv') - headers\n",
    "datasize\n"
   ]
  },
  {
   "cell_type": "code",
   "execution_count": 38,
   "metadata": {},
   "outputs": [
    {
     "data": {
      "text/plain": [
       "70420052"
      ]
     },
     "execution_count": 38,
     "metadata": {},
     "output_type": "execute_result"
    }
   ],
   "source": [
    "import os\n",
    "datasize = os.path.getsize('./data/fixed_out.csv') - headers\n",
    "chunksize = datasize // 16\n",
    "chunksize = chunksize // row * row\n"
   ]
  },
  {
   "cell_type": "code",
   "execution_count": 24,
   "metadata": {},
   "outputs": [
    {
     "data": {
      "text/plain": [
       "'32,623,153,729, 51,702,478,774, 50,208,757,380, 66,417, 12,929,587,908,926,246,917,943,476,697,881, 55, 95,192, 69,583,419,383,370,292, 87,201,112, 15,258,193,282,163,424,592, 50,760,313,572,181\\n'"
      ]
     },
     "execution_count": 24,
     "metadata": {},
     "output_type": "execute_result"
    }
   ],
   "source": [
    "f.seek(1126728924)\n",
    "f.readline()"
   ]
  },
  {
   "cell_type": "code",
   "execution_count": null,
   "metadata": {
    "collapsed": true
   },
   "outputs": [],
   "source": []
  }
 ],
 "metadata": {
  "kernelspec": {
   "display_name": "Python 3",
   "language": "python",
   "name": "python3"
  },
  "language_info": {
   "codemirror_mode": {
    "name": "ipython",
    "version": 3
   },
   "file_extension": ".py",
   "mimetype": "text/x-python",
   "name": "python",
   "nbconvert_exporter": "python",
   "pygments_lexer": "ipython3",
   "version": "3.5.3"
  }
 },
 "nbformat": 4,
 "nbformat_minor": 2
}
